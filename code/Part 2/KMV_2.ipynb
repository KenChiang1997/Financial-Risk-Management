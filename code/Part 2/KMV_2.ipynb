{
 "metadata": {
  "language_info": {
   "codemirror_mode": {
    "name": "ipython",
    "version": 3
   },
   "file_extension": ".py",
   "mimetype": "text/x-python",
   "name": "python",
   "nbconvert_exporter": "python",
   "pygments_lexer": "ipython3",
   "version": "3.8.5"
  },
  "orig_nbformat": 2,
  "kernelspec": {
   "name": "python385jvsc74a57bd0dca0ade3e726a953b501b15e8e990130d2b7799f14cfd9f4271676035ebe5511",
   "display_name": "Python 3.8.5 64-bit ('base': conda)"
  }
 },
 "nbformat": 4,
 "nbformat_minor": 2,
 "cells": [
  {
   "cell_type": "code",
   "execution_count": 1,
   "metadata": {},
   "outputs": [],
   "source": [
    "import numpy as np \n",
    "import pandas as pd \n",
    "import matplotlib.pyplot as plt \n",
    "from scipy import optimize as opt\n",
    "from scipy.stats import norm\n",
    "import statsmodels.api as sm "
   ]
  },
  {
   "source": [
    "# Parameters"
   ],
   "cell_type": "markdown",
   "metadata": {}
  },
  {
   "source": [
    "# Giving Equity Value , Equity volatility ,Debt value to solve market value , market volatility \n",
    "\n",
    "equation (1) :\n",
    "\n",
    "$$\n",
    "E = A * N(d1) - e**(-rt) * N(d2)\n",
    "$$\n",
    "equation (2) :\n",
    "$$\n",
    "sigma_{equity} = (A/E) * N(d2) * sigma_{asset}\n",
    "$$\n",
    "\n",
    "\n",
    "where d1 ,d2 equal ->\n",
    "\n",
    "$$\n",
    "d1 =  ( ln(A/D) + (r+0.5*sigma_{a}^2) * T ) / ( sigma_{a} * sqrt(T) )\n",
    "$$\n",
    "\n",
    "$$\n",
    "d2 =  d1 - sigma_{a} * sqrt(T)\n",
    "$$\n",
    "\n",
    "\n",
    "note : \n",
    "\n",
    "$$\n",
    "N(d1) = dE/dV_{a}\n",
    "$$\n"
   ],
   "cell_type": "markdown",
   "metadata": {}
  },
  {
   "cell_type": "code",
   "execution_count": 5,
   "metadata": {},
   "outputs": [
    {
     "output_type": "stream",
     "name": "stdout",
     "text": [
      "30121312.429339796\n0.780714298840664\n30121312.429339796\n0.780714298840664\n30121312.429339796\n0.780714298840664\n30121312.429339796\n0.7807143108313823\n30121312.99773474\n0.7807143108313824\n-6.570480763912201e-05\n0.11472481032041634\n0.0\n0.09059435660190561\n0.0\n1.1156185438995769e-07\n0.0\n0.0\n"
     ]
    },
    {
     "output_type": "execute_result",
     "data": {
      "text/plain": [
       "array([1.41618546e-02, 8.02302657e+06])"
      ]
     },
     "metadata": {},
     "execution_count": 5
    }
   ],
   "source": [
    "from scipy.optimize import fsolve\n",
    "\n",
    "D = 33404048\n",
    "E = 4740291\n",
    "t = 1\n",
    "r = 2.32\n",
    "sigma_e = 0.02396919\n",
    "\n",
    "\n",
    "def d1(A,D,sigma_a,r,t):\n",
    "    up = np.log(A/D) + (r+0.5*sigma_a**2) * t\n",
    "    down = sigma_a*np.sqrt(t)\n",
    "    return up/down \n",
    "\n",
    "def d2(A,D,sigma_a,r,t):\n",
    "    up = np.log(A/D) + (r-0.5*sigma_a**2) * t\n",
    "    down = sigma_a*np.sqrt(t)\n",
    "    return up/down\n",
    "\n",
    "\n",
    "def func(x):\n",
    "    sigma_a = x[0]\n",
    "    A =  x[1] \n",
    "    # print(A)\n",
    "    # print(sigma_a)\n",
    "\n",
    "    d1_value = d1(A=A,D=D,sigma_a=sigma_a,r=r,t=t)\n",
    "    d2_value = d2(A=A,D=D,sigma_a=sigma_a,r=r,t=t)\n",
    "\n",
    "\n",
    "    return [  A*norm.cdf(d1_value) - np.exp(-r*t)*D*norm.cdf(d2_value) - E  , (A/E) * norm.cdf(d1_value) * sigma_a - sigma_e ]\n",
    "    \n",
    "\n",
    "\n",
    "root = fsolve( func, x0=[ 0.1, E+D ])\n",
    "root"
   ]
  },
  {
   "cell_type": "code",
   "execution_count": 3,
   "metadata": {},
   "outputs": [
    {
     "output_type": "execute_result",
     "data": {
      "text/plain": [
       "0.0142"
      ]
     },
     "metadata": {},
     "execution_count": 3
    }
   ],
   "source": [
    "round(root[0],4)"
   ]
  },
  {
   "cell_type": "code",
   "execution_count": 4,
   "metadata": {},
   "outputs": [
    {
     "output_type": "execute_result",
     "data": {
      "text/plain": [
       "8023026.570660202"
      ]
     },
     "metadata": {},
     "execution_count": 4
    }
   ],
   "source": [
    "root[1]"
   ]
  },
  {
   "source": [
    "web source : http://home.lu.lv/~valeinis/lv/seminars/Tetereva_05042012.pdf"
   ],
   "cell_type": "markdown",
   "metadata": {}
  }
 ]
}