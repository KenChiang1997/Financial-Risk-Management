{
 "metadata": {
  "language_info": {
   "codemirror_mode": {
    "name": "ipython",
    "version": 3
   },
   "file_extension": ".py",
   "mimetype": "text/x-python",
   "name": "python",
   "nbconvert_exporter": "python",
   "pygments_lexer": "ipython3",
   "version": "3.8.5"
  },
  "orig_nbformat": 2,
  "kernelspec": {
   "name": "python3",
   "display_name": "Python 3.8.5 64-bit ('base': conda)"
  },
  "interpreter": {
   "hash": "dca0ade3e726a953b501b15e8e990130d2b7799f14cfd9f4271676035ebe5511"
  }
 },
 "nbformat": 4,
 "nbformat_minor": 2,
 "cells": [
  {
   "cell_type": "code",
   "execution_count": 1,
   "metadata": {},
   "outputs": [],
   "source": [
    "import datetime as dt\n",
    "import numpy as np \n",
    "import pandas as pd\n",
    "from pandas.core import construction \n",
    "\n",
    "from scipy.stats import norm\n",
    "from scipy.optimize import fsolve"
   ]
  },
  {
   "cell_type": "code",
   "execution_count": 2,
   "metadata": {},
   "outputs": [],
   "source": [
    "class Merton_KMV():\n",
    "    def __init__(self,D,E,t,r,sigma_e,x):\n",
    "        self.D = D \n",
    "        self.E = E\n",
    "        self.t = t\n",
    "        self.r = r \n",
    "        self.sigma_e = sigma_e\n",
    "        self.x = x\n",
    "    def d1(self,A,D,sigma_a,r,t):\n",
    "        self.d1_v = ( np.log(A/D) + ( r + sigma_a**2 /2 ) * t ) / ( sigma_a*np.sqrt(t) )\n",
    "        return self.d1_v \n",
    "    def d2(self,A,D,sigma_a,r,t):\n",
    "        self.d2_v = self.d1_v - sigma_a*np.sqrt(t)\n",
    "        return self.d2_v \n",
    "    def func(self,x):\n",
    "        sigma_a = x[0]\n",
    "        A =  x[1] \n",
    "        d1_value = self.d1(A=A, D=self.D , sigma_a=sigma_a , r=self.r , t=self.t)\n",
    "        d2_value = self.d2(A=A, D=self.D , sigma_a=sigma_a , r=self.r , t=self.t)\n",
    "        \n",
    "        return [ (A*norm.cdf(d1_value) - np.exp(-self.r*self.t)*self.D*norm.cdf(d2_value) - self.E) , ((A/self.E) * norm.cdf(d1_value) * sigma_a - self.sigma_e )]\n",
    "    def fsolve(self):\n",
    "        root = fsolve( self.func, x0=self.x)\n",
    "        return root\n"
   ]
  },
  {
   "cell_type": "code",
   "execution_count": 3,
   "metadata": {},
   "outputs": [],
   "source": [
    "# df = pd.read_csv(r'/Users/chen-lichiang/Desktop/data_20020701.csv')\n",
    "df = pd.read_csv(r'/Users/chen-lichiang/Desktop/data_20011001.csv')\n",
    "\n",
    "\n",
    "# df = pd.read_excel(r'/Users/chen-lichiang/Desktop/data_bonus.xls')"
   ]
  },
  {
   "cell_type": "code",
   "execution_count": 4,
   "metadata": {},
   "outputs": [
    {
     "output_type": "execute_result",
     "data": {
      "text/plain": [
       "     PERMNO   DLC   DLTT       DATE               COMNAM       RET  \\\n",
       "0     11042  5015  13878  2000/10/2  WORLDCOM INC GA NEW -0.031351   \n",
       "1     11042  5015  13878  2000/10/3  WORLDCOM INC GA NEW  0.014753   \n",
       "2     11042  5015  13878  2000/10/4  WORLDCOM INC GA NEW -0.058143   \n",
       "3     11042  5015  13878  2000/10/5  WORLDCOM INC GA NEW -0.083189   \n",
       "4     11042  5015  13878  2000/10/6  WORLDCOM INC GA NEW -0.029342   \n",
       "..      ...   ...    ...        ...                  ...       ...   \n",
       "242   11042  7200  12494  2001/9/24  WORLDCOM INC GA NEW  0.109311   \n",
       "243   11042  7200  12494  2001/9/25  WORLDCOM INC GA NEW  0.036264   \n",
       "244   11042  7200  12494  2001/9/26  WORLDCOM INC GA NEW  0.030941   \n",
       "245   11042  7200  12494  2001/9/27  WORLDCOM INC GA NEW -0.019830   \n",
       "246   11042  7200  12494  2001/9/28  WORLDCOM INC GA NEW  0.037945   \n",
       "\n",
       "              me      f      ym  TCMNOM_Y1      ir  \n",
       "0    84678.05794  11954  200010       6.01  0.0601  \n",
       "1    85936.54288  11954  200010       6.01  0.0601  \n",
       "2    81082.38669  11954  200010       6.01  0.0601  \n",
       "3    74610.17844  11954  200010       6.01  0.0601  \n",
       "4    72452.77569  11954  200010       6.01  0.0601  \n",
       "..           ...    ...     ...        ...     ...  \n",
       "242  40836.58554  13447  200109       2.82  0.0282  \n",
       "243  42344.66870  13447  200109       2.82  0.0282  \n",
       "244  43675.33445  13447  200109       2.82  0.0282  \n",
       "245  42817.79305  13447  200109       2.82  0.0282  \n",
       "246  44605.46645  13447  200109       2.82  0.0282  \n",
       "\n",
       "[247 rows x 11 columns]"
      ],
      "text/html": "<div>\n<style scoped>\n    .dataframe tbody tr th:only-of-type {\n        vertical-align: middle;\n    }\n\n    .dataframe tbody tr th {\n        vertical-align: top;\n    }\n\n    .dataframe thead th {\n        text-align: right;\n    }\n</style>\n<table border=\"1\" class=\"dataframe\">\n  <thead>\n    <tr style=\"text-align: right;\">\n      <th></th>\n      <th>PERMNO</th>\n      <th>DLC</th>\n      <th>DLTT</th>\n      <th>DATE</th>\n      <th>COMNAM</th>\n      <th>RET</th>\n      <th>me</th>\n      <th>f</th>\n      <th>ym</th>\n      <th>TCMNOM_Y1</th>\n      <th>ir</th>\n    </tr>\n  </thead>\n  <tbody>\n    <tr>\n      <th>0</th>\n      <td>11042</td>\n      <td>5015</td>\n      <td>13878</td>\n      <td>2000/10/2</td>\n      <td>WORLDCOM INC GA NEW</td>\n      <td>-0.031351</td>\n      <td>84678.05794</td>\n      <td>11954</td>\n      <td>200010</td>\n      <td>6.01</td>\n      <td>0.0601</td>\n    </tr>\n    <tr>\n      <th>1</th>\n      <td>11042</td>\n      <td>5015</td>\n      <td>13878</td>\n      <td>2000/10/3</td>\n      <td>WORLDCOM INC GA NEW</td>\n      <td>0.014753</td>\n      <td>85936.54288</td>\n      <td>11954</td>\n      <td>200010</td>\n      <td>6.01</td>\n      <td>0.0601</td>\n    </tr>\n    <tr>\n      <th>2</th>\n      <td>11042</td>\n      <td>5015</td>\n      <td>13878</td>\n      <td>2000/10/4</td>\n      <td>WORLDCOM INC GA NEW</td>\n      <td>-0.058143</td>\n      <td>81082.38669</td>\n      <td>11954</td>\n      <td>200010</td>\n      <td>6.01</td>\n      <td>0.0601</td>\n    </tr>\n    <tr>\n      <th>3</th>\n      <td>11042</td>\n      <td>5015</td>\n      <td>13878</td>\n      <td>2000/10/5</td>\n      <td>WORLDCOM INC GA NEW</td>\n      <td>-0.083189</td>\n      <td>74610.17844</td>\n      <td>11954</td>\n      <td>200010</td>\n      <td>6.01</td>\n      <td>0.0601</td>\n    </tr>\n    <tr>\n      <th>4</th>\n      <td>11042</td>\n      <td>5015</td>\n      <td>13878</td>\n      <td>2000/10/6</td>\n      <td>WORLDCOM INC GA NEW</td>\n      <td>-0.029342</td>\n      <td>72452.77569</td>\n      <td>11954</td>\n      <td>200010</td>\n      <td>6.01</td>\n      <td>0.0601</td>\n    </tr>\n    <tr>\n      <th>...</th>\n      <td>...</td>\n      <td>...</td>\n      <td>...</td>\n      <td>...</td>\n      <td>...</td>\n      <td>...</td>\n      <td>...</td>\n      <td>...</td>\n      <td>...</td>\n      <td>...</td>\n      <td>...</td>\n    </tr>\n    <tr>\n      <th>242</th>\n      <td>11042</td>\n      <td>7200</td>\n      <td>12494</td>\n      <td>2001/9/24</td>\n      <td>WORLDCOM INC GA NEW</td>\n      <td>0.109311</td>\n      <td>40836.58554</td>\n      <td>13447</td>\n      <td>200109</td>\n      <td>2.82</td>\n      <td>0.0282</td>\n    </tr>\n    <tr>\n      <th>243</th>\n      <td>11042</td>\n      <td>7200</td>\n      <td>12494</td>\n      <td>2001/9/25</td>\n      <td>WORLDCOM INC GA NEW</td>\n      <td>0.036264</td>\n      <td>42344.66870</td>\n      <td>13447</td>\n      <td>200109</td>\n      <td>2.82</td>\n      <td>0.0282</td>\n    </tr>\n    <tr>\n      <th>244</th>\n      <td>11042</td>\n      <td>7200</td>\n      <td>12494</td>\n      <td>2001/9/26</td>\n      <td>WORLDCOM INC GA NEW</td>\n      <td>0.030941</td>\n      <td>43675.33445</td>\n      <td>13447</td>\n      <td>200109</td>\n      <td>2.82</td>\n      <td>0.0282</td>\n    </tr>\n    <tr>\n      <th>245</th>\n      <td>11042</td>\n      <td>7200</td>\n      <td>12494</td>\n      <td>2001/9/27</td>\n      <td>WORLDCOM INC GA NEW</td>\n      <td>-0.019830</td>\n      <td>42817.79305</td>\n      <td>13447</td>\n      <td>200109</td>\n      <td>2.82</td>\n      <td>0.0282</td>\n    </tr>\n    <tr>\n      <th>246</th>\n      <td>11042</td>\n      <td>7200</td>\n      <td>12494</td>\n      <td>2001/9/28</td>\n      <td>WORLDCOM INC GA NEW</td>\n      <td>0.037945</td>\n      <td>44605.46645</td>\n      <td>13447</td>\n      <td>200109</td>\n      <td>2.82</td>\n      <td>0.0282</td>\n    </tr>\n  </tbody>\n</table>\n<p>247 rows × 11 columns</p>\n</div>"
     },
     "metadata": {},
     "execution_count": 4
    }
   ],
   "source": [
    "df['RET'] = np.log( df['RET'].values + 1)\n",
    "df"
   ]
  },
  {
   "cell_type": "code",
   "execution_count": 5,
   "metadata": {
    "tags": []
   },
   "outputs": [
    {
     "output_type": "stream",
     "name": "stderr",
     "text": [
      "<ipython-input-5-51c601605b74>:11: SettingWithCopyWarning: \nA value is trying to be set on a copy of a slice from a DataFrame.\nTry using .loc[row_indexer,col_indexer] = value instead\n\nSee the caveats in the documentation: https://pandas.pydata.org/pandas-docs/stable/user_guide/indexing.html#returning-a-view-versus-a-copy\n  df['sigma_e'] = list(reversed(sigma_e))\n"
     ]
    },
    {
     "output_type": "execute_result",
     "data": {
      "text/plain": [
       "        DATE       RET           me      ir  KMV debt   sigma_e\n",
       "0  2001/9/28  0.037243  44605.46645  0.0282   13447.0  0.739157"
      ],
      "text/html": "<div>\n<style scoped>\n    .dataframe tbody tr th:only-of-type {\n        vertical-align: middle;\n    }\n\n    .dataframe tbody tr th {\n        vertical-align: top;\n    }\n\n    .dataframe thead th {\n        text-align: right;\n    }\n</style>\n<table border=\"1\" class=\"dataframe\">\n  <thead>\n    <tr style=\"text-align: right;\">\n      <th></th>\n      <th>DATE</th>\n      <th>RET</th>\n      <th>me</th>\n      <th>ir</th>\n      <th>KMV debt</th>\n      <th>sigma_e</th>\n    </tr>\n  </thead>\n  <tbody>\n    <tr>\n      <th>0</th>\n      <td>2001/9/28</td>\n      <td>0.037243</td>\n      <td>44605.46645</td>\n      <td>0.0282</td>\n      <td>13447.0</td>\n      <td>0.739157</td>\n    </tr>\n  </tbody>\n</table>\n</div>"
     },
     "metadata": {},
     "execution_count": 5
    }
   ],
   "source": [
    "def KMV_df(df):\n",
    "    n=df.shape[0]\n",
    "    df['RET'] = np.log( df['RET'].values + 1)\n",
    "    sigma_e = []\n",
    "    df['KMV debt'] = df['DLC'] + 0.5 * df['DLTT']\n",
    "    for i in range(df.shape[0]+1,n,-1):\n",
    "        e_values = np.std( df['RET'][-(n-i):i].values ) * np.sqrt(n)\n",
    "        sigma_e.append(e_values)\n",
    "\n",
    "    df = df[n-1:]\n",
    "    df['sigma_e'] = list(reversed(sigma_e))  \n",
    "\n",
    "    df = df [['DATE','RET','me','ir','KMV debt','sigma_e']]\n",
    "    df = df.reset_index(drop=True)\n",
    "    return df \n",
    "\n",
    "kmv_df = KMV_df(df=df)\n",
    "kmv_df "
   ]
  },
  {
   "cell_type": "code",
   "execution_count": 6,
   "metadata": {},
   "outputs": [
    {
     "output_type": "execute_result",
     "data": {
      "text/plain": [
       "        DATE       RET           me      ir  KMV debt   sigma_e   sigma_a  \\\n",
       "0  2001/9/28  0.037243  44605.46645  0.0282   13447.0  0.739157  0.573005   \n",
       "\n",
       "              A        d1        d2       EDP  \n",
       "0  57655.569793  2.876237  2.303232  0.010633  "
      ],
      "text/html": "<div>\n<style scoped>\n    .dataframe tbody tr th:only-of-type {\n        vertical-align: middle;\n    }\n\n    .dataframe tbody tr th {\n        vertical-align: top;\n    }\n\n    .dataframe thead th {\n        text-align: right;\n    }\n</style>\n<table border=\"1\" class=\"dataframe\">\n  <thead>\n    <tr style=\"text-align: right;\">\n      <th></th>\n      <th>DATE</th>\n      <th>RET</th>\n      <th>me</th>\n      <th>ir</th>\n      <th>KMV debt</th>\n      <th>sigma_e</th>\n      <th>sigma_a</th>\n      <th>A</th>\n      <th>d1</th>\n      <th>d2</th>\n      <th>EDP</th>\n    </tr>\n  </thead>\n  <tbody>\n    <tr>\n      <th>0</th>\n      <td>2001/9/28</td>\n      <td>0.037243</td>\n      <td>44605.46645</td>\n      <td>0.0282</td>\n      <td>13447.0</td>\n      <td>0.739157</td>\n      <td>0.573005</td>\n      <td>57655.569793</td>\n      <td>2.876237</td>\n      <td>2.303232</td>\n      <td>0.010633</td>\n    </tr>\n  </tbody>\n</table>\n</div>"
     },
     "metadata": {},
     "execution_count": 6
    }
   ],
   "source": [
    "def d2(A,D,sigma_a,r,t):\n",
    "    d2_v =  ( np.log(A/D) + (r-0.5*sigma_a**2) * t ) / ( sigma_a*np.sqrt(t) )\n",
    "    return d2_v\n",
    "\n",
    "def d1(A,D,sigma_a,r,t):\n",
    "    d1_v =  ( np.log(A/D) + (r+0.5*sigma_a**2) * t ) / ( sigma_a*np.sqrt(t) )\n",
    "    return d1_v\n",
    "\n",
    "sigma_list = []\n",
    "A_list = []\n",
    "EDP = []\n",
    "d2_list = []\n",
    "d1_list = []\n",
    "for i in range(kmv_df.shape[0]):\n",
    "    t = 1\n",
    "    d = kmv_df['KMV debt'][i]\n",
    "    e = kmv_df['me'][i]\n",
    "    r = kmv_df['ir'][i]\n",
    "    sigma_e = kmv_df['sigma_e'][i]\n",
    "\n",
    "    model = Merton_KMV(D=d,E=e,t=t,r=r,sigma_e=sigma_e,x=[ sigma_e , e+d ])\n",
    "    ans = model.fsolve()\n",
    "    \n",
    "    sigma_list.append(ans[0])\n",
    "    A_list.append(ans[1])\n",
    "\n",
    "    \n",
    "    d2_vlaue = d2(A=ans[1],D=d, sigma_a=ans[0],r=r,t=t)\n",
    "    d2_list.append(d2_vlaue)\n",
    "    d1_vlaue = d1(A=ans[1],D=d, sigma_a=ans[0] ,r=r,t=t)\n",
    "    d1_list.append(d1_vlaue)\n",
    "    EDP .append( norm.cdf(-1*d2_vlaue) )\n",
    "    \n",
    "\n",
    "\n",
    "kmv_df['sigma_a'] = sigma_list\n",
    "kmv_df['A'] = A_list\n",
    "kmv_df['d1'] = d1_list\n",
    "kmv_df['d2'] = d2_list\n",
    "kmv_df['EDP'] = EDP\n",
    "\n",
    "\n",
    "kmv_df"
   ]
  }
 ]
}